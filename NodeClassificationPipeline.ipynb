{
 "cells": [
  {
   "cell_type": "code",
   "execution_count": null,
   "id": "4e1e2274",
   "metadata": {},
   "outputs": [],
   "source": [
    "pip install neo4j==4.4"
   ]
  },
  {
   "cell_type": "markdown",
   "id": "622f2d2f",
   "metadata": {},
   "source": [
    "## 0. Background\n",
    "#### Title: \n",
    "Type 2 diabetic and hyperglycemic pancreatic islets\t\n",
    "#### Summary: \n",
    "Analysis of pancreatic islets from type 2 diabetes (T2D) and non-diabetic cadaver donors. Glycemic control (HbA1c) levels also measured from the same individuals (normoglycemic: HbA1c < 6%; hyperglycemic: HbA1c ≥ 6%). Results provided insight into molecular basis of islet dysfunction in T2D.\n",
    "#### Organism:\n",
    "Homo Sapiens\n",
    "#### Platform:\n",
    "GPL6244: [HuGene-1_0-st] Affymetrix Human Gene 1.0 ST Array [transcript (gene) version]\n",
    "#### Samples:\n",
    "63\n",
    "#### Reference:\n",
    "[GEO database](https://www.ncbi.nlm.nih.gov/sites/GDSbrowser?acc=GDS4337)"
   ]
  },
  {
   "cell_type": "markdown",
   "id": "086dbd9c",
   "metadata": {},
   "source": [
    "### 1. Database setup"
   ]
  },
  {
   "cell_type": "code",
   "execution_count": null,
   "id": "3e485300",
   "metadata": {},
   "outputs": [],
   "source": [
    "url = \"bolt://localhost:7687\"\n",
    "user = \"neo4j\"\n",
    "password = \"test\" "
   ]
  },
  {
   "cell_type": "code",
   "execution_count": null,
   "id": "b2f0e6a7",
   "metadata": {},
   "outputs": [],
   "source": [
    "from neo4j import GraphDatabase\n",
    "driver = GraphDatabase.driver(url, auth=(user, password))\n",
    "neo4j = driver.session()"
   ]
  },
  {
   "cell_type": "markdown",
   "id": "05dbfe8a",
   "metadata": {},
   "source": [
    "### 2. Loading data\n",
    "#### File structure:\n",
    "- Columns Patient\n",
    "- Rows are the Illumina RNA identifier\n",
    "- Annotation of diabetes marker HbA1c for 51 of 63 patients\n",
    "\n",
    "|ID_REF|IDENTIFIER|GSM1313609|GSM1313610|GSM1313611|\n",
    "|---|---|---|---|---|\n",
    "|ILMN_1343291|EEF1A1|7.28|0.01|7.9|\n",
    "|ILMN_1343295|GAPDH|4.76|4.56|8.8|\n",
    "|ILMN_1651228|RPS28|113.4|111.56|0.0|"
   ]
  },
  {
   "cell_type": "code",
   "execution_count": 147,
   "id": "e2cabedd",
   "metadata": {},
   "outputs": [],
   "source": [
    "filename = '00_load_GDS4337_dataset.cypher'\n",
    "with open(filename, 'r') as file:\n",
    "    content = file.read()\n",
    "# print(content)\n",
    "commands = content.split(\";\")\n",
    "for c in commands:\n",
    "    if not c == \"\":\n",
    "        result = neo4j.run(\"\" + c)"
   ]
  },
  {
   "cell_type": "markdown",
   "id": "37de070a",
   "metadata": {},
   "source": [
    "### 3. Node classification pipeline\n",
    "All commands in one file in the next cell"
   ]
  },
  {
   "cell_type": "code",
   "execution_count": null,
   "id": "b5b6c308",
   "metadata": {},
   "outputs": [],
   "source": [
    "# all commands in one file\n",
    "#with open('02_GDS_on_GDS4337_dataset.cypher', 'r') as file:\n",
    "#    content = file.read()\n",
    "## print(content)\n",
    "#commands = content.split(\";\")\n",
    "#for c in commands:\n",
    "#    if not c == \"\":\n",
    "#        result = neo4j.run(\"\" + c)"
   ]
  },
  {
   "cell_type": "markdown",
   "id": "682292ab",
   "metadata": {},
   "source": [
    "Graph projection of node labels `:Patient` and `:Transcript` and relationship `:MEASURED`"
   ]
  },
  {
   "cell_type": "code",
   "execution_count": 151,
   "id": "2f8788f3",
   "metadata": {},
   "outputs": [],
   "source": [
    "graphProjection1 = \"\"\"\n",
    "    CALL gds.graph.project(\n",
    "        'graph',                                                                                \n",
    "        ['Patient','Transcript'],\n",
    "        {MEASURED: {orientation: 'REVERSE'}},\n",
    "        {relationshipProperties: ['value']}                           \n",
    "    )\n",
    "    YIELD graphName, nodeProjection, nodeCount AS nodes, relationshipCount AS rels\n",
    "    RETURN graphName, nodeProjection.Patient AS patientProjection, nodes, rels;\"\"\"\n",
    "result = neo4j.run(graphProjection1)"
   ]
  },
  {
   "cell_type": "markdown",
   "id": "b9520b93",
   "metadata": {},
   "source": [
    "Calculate similarity between Patients based on ***nodeSimilarity*** using values as weights\n",
    "\n",
    "`similarity cutoff = 0.9708` -> 1 standard deviation from mean\n",
    "> Output is a monopartite graph ``(Patient)-[:SIMILAR{similarityScore}]->(Patient)``\n"
   ]
  },
  {
   "cell_type": "code",
   "execution_count": 152,
   "id": "ef1e1eb2",
   "metadata": {},
   "outputs": [],
   "source": [
    "nodeSimilarity =\"\"\"\n",
    "    CALL gds.nodeSimilarity.write('graph', {\n",
    "        relationshipWeightProperty: 'value',\n",
    "        similarityCutoff: 0.9708,\n",
    "        writeRelationshipType: 'SIMILAR',\n",
    "        writeProperty: 'similarityScore'\n",
    "    });\"\"\"\n",
    "result = neo4j.run(nodeSimilarity)"
   ]
  },
  {
   "cell_type": "markdown",
   "id": "5cfff7b2",
   "metadata": {},
   "source": [
    "Delete symmetric relationships `:SIMILAR`"
   ]
  },
  {
   "cell_type": "code",
   "execution_count": 153,
   "id": "d1500c0b",
   "metadata": {},
   "outputs": [],
   "source": [
    "deleteSymmetric = \"\"\"\n",
    "    MATCH (n)-[s:SIMILAR]->(m) WHERE id(n) < id(m) DELETE s;\"\"\"\n",
    "result = neo4j.run(deleteSymmetric)"
   ]
  },
  {
   "cell_type": "markdown",
   "id": "b9d711e3",
   "metadata": {},
   "source": [
    "Graph projection of node labels `:Patient` and relationship `:SIMILAR`\n"
   ]
  },
  {
   "cell_type": "code",
   "execution_count": 154,
   "id": "a45efd28",
   "metadata": {},
   "outputs": [],
   "source": [
    "graphProjection2 =\"\"\"\n",
    "    CALL gds.graph.project(\n",
    "        'graph2',                                                                                \n",
    "        ['Patient'],\n",
    "        {SIMILAR: {orientation: 'UNDIRECTED'}},\n",
    "        {relationshipProperties: ['similarityScore']}                         \n",
    "    );\"\"\"\n",
    "result = neo4j.run(graphProjection2)"
   ]
  },
  {
   "cell_type": "markdown",
   "id": "bc18c520",
   "metadata": {},
   "source": [
    "Generate ***Fast Random Projections*** (node embedding) for each `:Patient` to represent each patient as a vector but keeping topology of the graph\n",
    "> Output is a vector stored as node property ``fastRP__Embed``\n"
   ]
  },
  {
   "cell_type": "code",
   "execution_count": 155,
   "id": "15223758",
   "metadata": {},
   "outputs": [],
   "source": [
    "fastRandomProjection = \"\"\"\n",
    "    CALL gds.fastRP.write('graph2',{\n",
    "        relationshipTypes:['SIMILAR'],\n",
    "        embeddingDimension: 128,\n",
    "        iterationWeights: [1.0],\n",
    "        normalizationStrength:0.05,\n",
    "        writeProperty: 'fastRP__Embed',\n",
    "        relationshipWeightProperty:'similarityScore'\n",
    "    });\"\"\"\n",
    "result = neo4j.run(fastRandomProjection)"
   ]
  },
  {
   "cell_type": "markdown",
   "id": "2026b6d5",
   "metadata": {},
   "source": [
    "Graph projection of node labels `:Patient` including the newly calculated property `fastRP__Embed`\n",
    "and relationship `:SIMILAR` including property `similarityScore`\n"
   ]
  },
  {
   "cell_type": "code",
   "execution_count": 156,
   "id": "94a1d7b2",
   "metadata": {},
   "outputs": [],
   "source": [
    "graphProjection3 = \"\"\"\n",
    "    CALL gds.graph.project(\n",
    "        'graph3',   {                                                                               \n",
    "        Patient: {properties: {\n",
    "        targetProperty:{property:'targetProperty',defaultValue:0},\n",
    "        isTrain:{property:'isTrain',defaultValue:0},\n",
    "        fastRP__Embed:{property:'fastRP__Embed'}\n",
    "        }\n",
    "      }  \n",
    "    },\n",
    "    {SIMILAR: {orientation: 'UNDIRECTED'}},\n",
    "    {relationshipProperties: ['similarityScore']});\"\"\"\n",
    "result = neo4j.run(graphProjection3)"
   ]
  },
  {
   "cell_type": "markdown",
   "id": "097e0f49",
   "metadata": {},
   "source": [
    "Create a new GDS pipeline"
   ]
  },
  {
   "cell_type": "code",
   "execution_count": 157,
   "id": "03d34bb5",
   "metadata": {},
   "outputs": [],
   "source": [
    "createPipeline = \"\"\"CALL gds.beta.pipeline.nodeClassification.create('pipe')\"\"\"\n",
    "result = neo4j.run(createPipeline)"
   ]
  },
  {
   "cell_type": "markdown",
   "id": "deb3aaba",
   "metadata": {},
   "source": [
    "Select feature `fastRP__Embed` for the pipeline"
   ]
  },
  {
   "cell_type": "code",
   "execution_count": 158,
   "id": "706b8adf",
   "metadata": {},
   "outputs": [],
   "source": [
    "selectFeatures = \"\"\"\n",
    "    CALL gds.beta.pipeline.nodeClassification.selectFeatures(\n",
    "        'pipe', \n",
    "        ['fastRP__Embed']) \n",
    "    YIELD name, featureProperties;\"\"\"\n",
    "result = neo4j.run(selectFeatures)"
   ]
  },
  {
   "cell_type": "markdown",
   "id": "44f1d06a",
   "metadata": {},
   "source": [
    "Configure the ratio of the test dataset"
   ]
  },
  {
   "cell_type": "code",
   "execution_count": 159,
   "id": "07f60c8b",
   "metadata": {},
   "outputs": [],
   "source": [
    "configureSplit = \"\"\"\n",
    "    CALL gds.beta.pipeline.nodeClassification.configureSplit('pipe', {\n",
    "        testFraction: 0.2,\n",
    "        validationFolds: 5\n",
    "        })\n",
    "    YIELD splitConfig;\"\"\"\n",
    "result = neo4j.run(configureSplit)"
   ]
  },
  {
   "cell_type": "markdown",
   "id": "b0296741",
   "metadata": {},
   "source": [
    "Add model candidate to the pipeline"
   ]
  },
  {
   "cell_type": "code",
   "execution_count": 160,
   "id": "9dc253d6",
   "metadata": {},
   "outputs": [],
   "source": [
    "result = neo4j.run(\"\"\"CALL gds.beta.pipeline.nodeClassification.addLogisticRegression('pipe', {penalty: 0.0625}) YIELD parameterSpace;\"\"\")"
   ]
  },
  {
   "cell_type": "markdown",
   "id": "6af62812",
   "metadata": {},
   "source": [
    "Create a subgraph from projection which will be training set `:Patient.isTrain = 1`"
   ]
  },
  {
   "cell_type": "code",
   "execution_count": 161,
   "id": "4b4890f1",
   "metadata": {},
   "outputs": [],
   "source": [
    "trainingSet = \"\"\"\n",
    "    CALL gds.beta.graph.project.subgraph(\n",
    "        'graph-train',\n",
    "        'graph3',\n",
    "        'n:Patient AND n.isTrain = 1', '*')\n",
    "    YIELD graphName, fromGraphName, nodeCount, relationshipCount;\"\"\"\n",
    "result = neo4j.run(trainingSet)"
   ]
  },
  {
   "cell_type": "markdown",
   "id": "77fdc29a",
   "metadata": {},
   "source": [
    "Create a subgraph from projection which will be test set `:Patient.isTrain = 0`"
   ]
  },
  {
   "cell_type": "code",
   "execution_count": 162,
   "id": "56cacc3d",
   "metadata": {},
   "outputs": [],
   "source": [
    "testSet = \"\"\"\n",
    "    CALL gds.beta.graph.project.subgraph(\n",
    "        'graph-test', \n",
    "        'graph3', \n",
    "        'n:Patient AND n.isTrain = 0', '*')\n",
    "    YIELD graphName, fromGraphName, nodeCount, relationshipCount;\"\"\"\n",
    "result = neo4j.run(testSet)"
   ]
  },
  {
   "cell_type": "markdown",
   "id": "492e991f",
   "metadata": {},
   "source": [
    "Model training writing the target property `targetProperty`"
   ]
  },
  {
   "cell_type": "code",
   "execution_count": 163,
   "id": "8eab00ce",
   "metadata": {},
   "outputs": [],
   "source": [
    "modelTraining = \"\"\"\n",
    "    CALL gds.beta.pipeline.nodeClassification.train('graph-train', {\n",
    "        pipeline: 'pipe',\n",
    "        targetNodeLabels: ['Patient'],\n",
    "        modelName: 't2d_FRP',\n",
    "        targetProperty: 'targetProperty',\n",
    "        randomSeed: 42,\n",
    "        metrics: ['F1_WEIGHTED','ACCURACY']\n",
    "    });\"\"\"\n",
    "result = neo4j.run(modelTraining)"
   ]
  },
  {
   "cell_type": "markdown",
   "id": "b68b7efd",
   "metadata": {},
   "source": [
    "Write prediction into the in-memory graph (not really necessary)"
   ]
  },
  {
   "cell_type": "code",
   "execution_count": 164,
   "id": "e226c52d",
   "metadata": {},
   "outputs": [],
   "source": [
    "mutateStatement = \"\"\"\n",
    "    CALL gds.beta.pipeline.nodeClassification.predict.mutate('graph-test', {\n",
    "        targetNodeLabels: ['Patient'],\n",
    "        modelName: 't2d_FRP',\n",
    "        mutateProperty: 'predicted_t2d'\n",
    "    });\"\"\"\n",
    "result = neo4j.run(mutateStatement)"
   ]
  },
  {
   "cell_type": "markdown",
   "id": "6def0b9d",
   "metadata": {},
   "source": [
    "Write predicted class as property `:Patient.predicted_t2d` from projection to database"
   ]
  },
  {
   "cell_type": "code",
   "execution_count": 165,
   "id": "1fbe544f",
   "metadata": {},
   "outputs": [],
   "source": [
    "writeResult = \"\"\"\n",
    "    CALL gds.graph.writeNodeProperties(\n",
    "        'graph-test',\n",
    "        ['predicted_t2d'],\n",
    "        ['Patient']\n",
    "    );\"\"\"\n",
    "result = neo4j.run(writeResult)"
   ]
  },
  {
   "cell_type": "markdown",
   "id": "6dc8649f",
   "metadata": {},
   "source": [
    "Check Accuracy "
   ]
  },
  {
   "cell_type": "code",
   "execution_count": 166,
   "id": "e4536696",
   "metadata": {},
   "outputs": [
    {
     "name": "stdout",
     "output_type": "stream",
     "text": [
      "Accuracy is 0.9166666666666666\n"
     ]
    }
   ],
   "source": [
    "checkAccuracy = \"\"\"\n",
    "    MATCH (p:Patient)\n",
    "    WHERE p.isTrain = 0\n",
    "    WITH count(p) AS nbPatient\n",
    "    MATCH (p:Patient)\n",
    "    WHERE p.isTrain = 0\n",
    "    AND p.targetProperty = p.predicted_t2d\n",
    "    RETURN toFloat(count(p)) / nbPatient AS Ratio;\"\"\"\n",
    "result = neo4j.run(checkAccuracy)\n",
    "row = result.single()\n",
    "print('Accuracy is '+ str(row['Ratio']))"
   ]
  },
  {
   "cell_type": "markdown",
   "id": "6682038e",
   "metadata": {},
   "source": [
    "Clean up - graph projections"
   ]
  },
  {
   "cell_type": "code",
   "execution_count": 150,
   "id": "5041139b",
   "metadata": {},
   "outputs": [],
   "source": [
    "cleanUp = \"\"\"\n",
    "CALL gds.graph.list()\n",
    "YIELD graphName\n",
    "WITH graphName as g\n",
    "CALL gds.graph.drop(g)\n",
    "YIELD graphName\n",
    "RETURN graphName\"\"\"\n",
    "result = neo4j.run(cleanUp)"
   ]
  },
  {
   "cell_type": "code",
   "execution_count": 143,
   "id": "555f3c50",
   "metadata": {},
   "outputs": [],
   "source": [
    "modelDrop = \"\"\"\n",
    "        CALL gds.beta.model.drop('t2d_FRP')\"\"\"\n",
    "result = neo4j.run(modelDrop)"
   ]
  },
  {
   "cell_type": "code",
   "execution_count": 144,
   "id": "d73c6aa4",
   "metadata": {},
   "outputs": [],
   "source": [
    "cleanPipe = \"\"\"call gds.beta.pipeline.drop('pipe')\"\"\"\n",
    "result = neo4j.run(cleanPipe)"
   ]
  },
  {
   "cell_type": "markdown",
   "id": "b2383ba2",
   "metadata": {},
   "source": [
    "### Community detection algorithm for Subphenotyping of Diabetic patients"
   ]
  },
  {
   "cell_type": "code",
   "execution_count": 167,
   "id": "de33a001",
   "metadata": {},
   "outputs": [],
   "source": [
    "graphProjection = \"\"\"\n",
    "CALL gds.graph.project(\n",
    "    'graph4',                                                                                \n",
    "    ['Patient']  \n",
    "    ,\n",
    "    {SIMILAR: {orientation: 'UNDIRECTED'}},\n",
    "    {relationshipProperties: ['similarityScore']}                         \n",
    ");\"\"\"\n",
    "result = neo4j.run(graphProjection)"
   ]
  },
  {
   "cell_type": "markdown",
   "id": "47e516a9",
   "metadata": {},
   "source": [
    "Run `Louvain` Community Detection Algorithm in streaming mode"
   ]
  },
  {
   "cell_type": "code",
   "execution_count": null,
   "id": "45ec176b",
   "metadata": {},
   "outputs": [],
   "source": [
    "louvainCommunityDetection = \"\"\"\n",
    "    CALL gds.louvain.stream('graph4', \n",
    "    { relationshipWeightProperty: 'similarityScore'})\n",
    "    YIELD nodeId, communityId, intermediateCommunityIds\n",
    "    RETURN gds.util.asNode(nodeId).name AS name, communityId, intermediateCommunityIds\n",
    "    ORDER BY name ASC;\"\"\"\n",
    "result = neo4j.run(louvainCommunityDetection)"
   ]
  },
  {
   "cell_type": "markdown",
   "id": "6eec3960",
   "metadata": {},
   "source": [
    "Write communities as property to `:Patient` `community`"
   ]
  },
  {
   "cell_type": "code",
   "execution_count": 141,
   "id": "a252d026",
   "metadata": {},
   "outputs": [],
   "source": [
    "writeCommunities = \"\"\"\n",
    "    CALL gds.louvain.write('graph4', \n",
    "    { \n",
    "    relationshipWeightProperty: 'similarityScore', \n",
    "    includeIntermediateCommunities: false,\n",
    "    writeProperty:'community'});\"\"\"\n",
    "result = neo4j.run(writeCommunities)"
   ]
  },
  {
   "cell_type": "code",
   "execution_count": null,
   "id": "bbb5903a",
   "metadata": {},
   "outputs": [],
   "source": []
  }
 ],
 "metadata": {
  "kernelspec": {
   "display_name": "Python 3 (ipykernel)",
   "language": "python",
   "name": "python3"
  },
  "language_info": {
   "codemirror_mode": {
    "name": "ipython",
    "version": 3
   },
   "file_extension": ".py",
   "mimetype": "text/x-python",
   "name": "python",
   "nbconvert_exporter": "python",
   "pygments_lexer": "ipython3",
   "version": "3.10.7"
  }
 },
 "nbformat": 4,
 "nbformat_minor": 5
}
