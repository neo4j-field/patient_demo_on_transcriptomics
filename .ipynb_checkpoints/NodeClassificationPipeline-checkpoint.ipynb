{
 "cells": [
  {
   "cell_type": "code",
   "execution_count": null,
   "id": "e12fa9b6",
   "metadata": {},
   "outputs": [],
   "source": [
    "pip install neo4j==4.4"
   ]
  },
  {
   "cell_type": "markdown",
   "id": "bbb5e757",
   "metadata": {},
   "source": [
    "### 1. Database setup"
   ]
  },
  {
   "cell_type": "code",
   "execution_count": 1,
   "id": "3e485300",
   "metadata": {},
   "outputs": [],
   "source": [
    "url = \"bolt://localhost:7687\"\n",
    "user = \"neo4j\"\n",
    "password = \"test\" "
   ]
  },
  {
   "cell_type": "code",
   "execution_count": 5,
   "id": "b2f0e6a7",
   "metadata": {},
   "outputs": [],
   "source": [
    "from neo4j import GraphDatabase\n",
    "driver = GraphDatabase.driver(url, auth=(user, password))\n",
    "neo4j = driver.session()"
   ]
  },
  {
   "cell_type": "markdown",
   "id": "99e9d306",
   "metadata": {},
   "source": [
    "### 2. Loading data\n",
    "Load file including diabetes marker HbA1c for 51 of 63 patients"
   ]
  },
  {
   "cell_type": "code",
   "execution_count": 25,
   "id": "56d3596e",
   "metadata": {},
   "outputs": [],
   "source": [
    "with open('00_load_GDS4337_dataset.cypher', 'r') as file:\n",
    "    content = file.read()\n",
    "# print(content)\n",
    "commands = content.split(\";\")\n",
    "for c in commands:\n",
    "    if not c == \"\":\n",
    "        result = neo4j.run(\"\" + c)"
   ]
  },
  {
   "cell_type": "markdown",
   "id": "19dbe4b0",
   "metadata": {},
   "source": [
    "### 3. Node classification pipeline"
   ]
  },
  {
   "cell_type": "code",
   "execution_count": 30,
   "id": "f712901d",
   "metadata": {},
   "outputs": [
    {
     "ename": "ClientError",
     "evalue": "{code: Neo.ClientError.Procedure.ProcedureCallFailed} {message: Failed to invoke procedure `gds.beta.pipeline.nodeClassification.train`: Caused by: java.util.NoSuchElementException: Pipeline with name `pipe` does not exist for user `neo4j`.}",
     "output_type": "error",
     "traceback": [
      "\u001b[0;31m---------------------------------------------------------------------------\u001b[0m",
      "\u001b[0;31mClientError\u001b[0m                               Traceback (most recent call last)",
      "Cell \u001b[0;32mIn[30], line 7\u001b[0m\n\u001b[1;32m      5\u001b[0m \u001b[38;5;28;01mfor\u001b[39;00m c \u001b[38;5;129;01min\u001b[39;00m commands:\n\u001b[1;32m      6\u001b[0m     \u001b[38;5;28;01mif\u001b[39;00m \u001b[38;5;129;01mnot\u001b[39;00m c \u001b[38;5;241m==\u001b[39m \u001b[38;5;124m\"\u001b[39m\u001b[38;5;124m\"\u001b[39m:\n\u001b[0;32m----> 7\u001b[0m         result \u001b[38;5;241m=\u001b[39m \u001b[43mneo4j\u001b[49m\u001b[38;5;241;43m.\u001b[39;49m\u001b[43mrun\u001b[49m\u001b[43m(\u001b[49m\u001b[38;5;124;43m\"\u001b[39;49m\u001b[38;5;124;43m\"\u001b[39;49m\u001b[43m \u001b[49m\u001b[38;5;241;43m+\u001b[39;49m\u001b[43m \u001b[49m\u001b[43mc\u001b[49m\u001b[43m)\u001b[49m\n",
      "File \u001b[0;32m/opt/homebrew/lib/python3.10/site-packages/neo4j/work/simple.py:201\u001b[0m, in \u001b[0;36mSession.run\u001b[0;34m(self, query, parameters, **kwparameters)\u001b[0m\n\u001b[1;32m    198\u001b[0m     \u001b[38;5;28;01mraise\u001b[39;00m ClientError(\u001b[38;5;124m\"\u001b[39m\u001b[38;5;124mExplicit Transaction must be handled explicitly\u001b[39m\u001b[38;5;124m\"\u001b[39m)\n\u001b[1;32m    200\u001b[0m \u001b[38;5;28;01mif\u001b[39;00m \u001b[38;5;28mself\u001b[39m\u001b[38;5;241m.\u001b[39m_autoResult:\n\u001b[0;32m--> 201\u001b[0m     \u001b[38;5;28;43mself\u001b[39;49m\u001b[38;5;241;43m.\u001b[39;49m\u001b[43m_autoResult\u001b[49m\u001b[38;5;241;43m.\u001b[39;49m\u001b[43m_buffer_all\u001b[49m\u001b[43m(\u001b[49m\u001b[43m)\u001b[49m  \u001b[38;5;66;03m# This will buffer upp all records for the previous auto-transaction\u001b[39;00m\n\u001b[1;32m    203\u001b[0m \u001b[38;5;28;01mif\u001b[39;00m \u001b[38;5;129;01mnot\u001b[39;00m \u001b[38;5;28mself\u001b[39m\u001b[38;5;241m.\u001b[39m_connection:\n\u001b[1;32m    204\u001b[0m     \u001b[38;5;28mself\u001b[39m\u001b[38;5;241m.\u001b[39m_connect(\u001b[38;5;28mself\u001b[39m\u001b[38;5;241m.\u001b[39m_config\u001b[38;5;241m.\u001b[39mdefault_access_mode)\n",
      "File \u001b[0;32m/opt/homebrew/lib/python3.10/site-packages/neo4j/work/result.py:228\u001b[0m, in \u001b[0;36mResult._buffer_all\u001b[0;34m(self)\u001b[0m\n\u001b[1;32m    224\u001b[0m \u001b[38;5;28;01mdef\u001b[39;00m \u001b[38;5;21m_buffer_all\u001b[39m(\u001b[38;5;28mself\u001b[39m):\n\u001b[1;32m    225\u001b[0m     \u001b[38;5;124;03m\"\"\"Sets the Result object in an detached state by fetching all records\u001b[39;00m\n\u001b[1;32m    226\u001b[0m \u001b[38;5;124;03m    from the connection to the buffer.\u001b[39;00m\n\u001b[1;32m    227\u001b[0m \u001b[38;5;124;03m    \"\"\"\u001b[39;00m\n\u001b[0;32m--> 228\u001b[0m     \u001b[38;5;28;43mself\u001b[39;49m\u001b[38;5;241;43m.\u001b[39;49m\u001b[43m_buffer\u001b[49m\u001b[43m(\u001b[49m\u001b[43m)\u001b[49m\n",
      "File \u001b[0;32m/opt/homebrew/lib/python3.10/site-packages/neo4j/work/result.py:214\u001b[0m, in \u001b[0;36mResult._buffer\u001b[0;34m(self, n)\u001b[0m\n\u001b[1;32m    206\u001b[0m \u001b[38;5;124;03m\"\"\"Try to fill `self_record_buffer` with n records.\u001b[39;00m\n\u001b[1;32m    207\u001b[0m \n\u001b[1;32m    208\u001b[0m \u001b[38;5;124;03mMight end up with more records in the buffer if the fetch size makes it\u001b[39;00m\n\u001b[0;32m   (...)\u001b[0m\n\u001b[1;32m    211\u001b[0m \u001b[38;5;124;03mrecords available.\u001b[39;00m\n\u001b[1;32m    212\u001b[0m \u001b[38;5;124;03m\"\"\"\u001b[39;00m\n\u001b[1;32m    213\u001b[0m record_buffer \u001b[38;5;241m=\u001b[39m deque()\n\u001b[0;32m--> 214\u001b[0m \u001b[38;5;28;01mfor\u001b[39;00m record \u001b[38;5;129;01min\u001b[39;00m \u001b[38;5;28mself\u001b[39m:\n\u001b[1;32m    215\u001b[0m     record_buffer\u001b[38;5;241m.\u001b[39mappend(record)\n\u001b[1;32m    216\u001b[0m     \u001b[38;5;28;01mif\u001b[39;00m n \u001b[38;5;129;01mis\u001b[39;00m \u001b[38;5;129;01mnot\u001b[39;00m \u001b[38;5;28;01mNone\u001b[39;00m \u001b[38;5;129;01mand\u001b[39;00m \u001b[38;5;28mlen\u001b[39m(record_buffer) \u001b[38;5;241m>\u001b[39m\u001b[38;5;241m=\u001b[39m n:\n",
      "File \u001b[0;32m/opt/homebrew/lib/python3.10/site-packages/neo4j/work/result.py:187\u001b[0m, in \u001b[0;36mResult.__iter__\u001b[0;34m(self)\u001b[0m\n\u001b[1;32m    185\u001b[0m     \u001b[38;5;28;01myield\u001b[39;00m \u001b[38;5;28mself\u001b[39m\u001b[38;5;241m.\u001b[39m_record_buffer\u001b[38;5;241m.\u001b[39mpopleft()\n\u001b[1;32m    186\u001b[0m \u001b[38;5;28;01melif\u001b[39;00m \u001b[38;5;28mself\u001b[39m\u001b[38;5;241m.\u001b[39m_streaming:\n\u001b[0;32m--> 187\u001b[0m     \u001b[38;5;28;43mself\u001b[39;49m\u001b[38;5;241;43m.\u001b[39;49m\u001b[43m_connection\u001b[49m\u001b[38;5;241;43m.\u001b[39;49m\u001b[43mfetch_message\u001b[49m\u001b[43m(\u001b[49m\u001b[43m)\u001b[49m\n\u001b[1;32m    188\u001b[0m \u001b[38;5;28;01melif\u001b[39;00m \u001b[38;5;28mself\u001b[39m\u001b[38;5;241m.\u001b[39m_discarding:\n\u001b[1;32m    189\u001b[0m     \u001b[38;5;28mself\u001b[39m\u001b[38;5;241m.\u001b[39m_discard()\n",
      "File \u001b[0;32m/opt/homebrew/lib/python3.10/site-packages/neo4j/io/_common.py:170\u001b[0m, in \u001b[0;36mConnectionErrorHandler.__getattr__.<locals>.outer.<locals>.inner\u001b[0;34m(*args, **kwargs)\u001b[0m\n\u001b[1;32m    168\u001b[0m \u001b[38;5;28;01mdef\u001b[39;00m \u001b[38;5;21minner\u001b[39m(\u001b[38;5;241m*\u001b[39margs, \u001b[38;5;241m*\u001b[39m\u001b[38;5;241m*\u001b[39mkwargs):\n\u001b[1;32m    169\u001b[0m     \u001b[38;5;28;01mtry\u001b[39;00m:\n\u001b[0;32m--> 170\u001b[0m         \u001b[43mfunc\u001b[49m\u001b[43m(\u001b[49m\u001b[38;5;241;43m*\u001b[39;49m\u001b[43margs\u001b[49m\u001b[43m,\u001b[49m\u001b[43m \u001b[49m\u001b[38;5;241;43m*\u001b[39;49m\u001b[38;5;241;43m*\u001b[39;49m\u001b[43mkwargs\u001b[49m\u001b[43m)\u001b[49m\n\u001b[1;32m    171\u001b[0m     \u001b[38;5;28;01mexcept\u001b[39;00m (Neo4jError, ServiceUnavailable, SessionExpired) \u001b[38;5;28;01mas\u001b[39;00m exc:\n\u001b[1;32m    172\u001b[0m         \u001b[38;5;28mself\u001b[39m\u001b[38;5;241m.\u001b[39m__on_error(exc)\n",
      "File \u001b[0;32m/opt/homebrew/lib/python3.10/site-packages/neo4j/io/_bolt4.py:309\u001b[0m, in \u001b[0;36mBolt4x0.fetch_message\u001b[0;34m(self)\u001b[0m\n\u001b[1;32m    307\u001b[0m \u001b[38;5;28mself\u001b[39m\u001b[38;5;241m.\u001b[39m_server_state_manager\u001b[38;5;241m.\u001b[39mstate \u001b[38;5;241m=\u001b[39m ServerStates\u001b[38;5;241m.\u001b[39mFAILED\n\u001b[1;32m    308\u001b[0m \u001b[38;5;28;01mtry\u001b[39;00m:\n\u001b[0;32m--> 309\u001b[0m     \u001b[43mresponse\u001b[49m\u001b[38;5;241;43m.\u001b[39;49m\u001b[43mon_failure\u001b[49m\u001b[43m(\u001b[49m\u001b[43msummary_metadata\u001b[49m\u001b[43m \u001b[49m\u001b[38;5;129;43;01mor\u001b[39;49;00m\u001b[43m \u001b[49m\u001b[43m{\u001b[49m\u001b[43m}\u001b[49m\u001b[43m)\u001b[49m\n\u001b[1;32m    310\u001b[0m \u001b[38;5;28;01mexcept\u001b[39;00m (ServiceUnavailable, DatabaseUnavailable):\n\u001b[1;32m    311\u001b[0m     \u001b[38;5;28;01mif\u001b[39;00m \u001b[38;5;28mself\u001b[39m\u001b[38;5;241m.\u001b[39mpool:\n",
      "File \u001b[0;32m/opt/homebrew/lib/python3.10/site-packages/neo4j/io/_common.py:228\u001b[0m, in \u001b[0;36mResponse.on_failure\u001b[0;34m(self, metadata)\u001b[0m\n\u001b[1;32m    226\u001b[0m \u001b[38;5;28;01mif\u001b[39;00m callable(handler):\n\u001b[1;32m    227\u001b[0m     handler()\n\u001b[0;32m--> 228\u001b[0m \u001b[38;5;28;01mraise\u001b[39;00m Neo4jError\u001b[38;5;241m.\u001b[39mhydrate(\u001b[38;5;241m*\u001b[39m\u001b[38;5;241m*\u001b[39mmetadata)\n",
      "\u001b[0;31mClientError\u001b[0m: {code: Neo.ClientError.Procedure.ProcedureCallFailed} {message: Failed to invoke procedure `gds.beta.pipeline.nodeClassification.train`: Caused by: java.util.NoSuchElementException: Pipeline with name `pipe` does not exist for user `neo4j`.}"
     ]
    }
   ],
   "source": [
    "with open('02_GDS_on_GDS4337_dataset.cypher', 'r') as file:\n",
    "    content = file.read()\n",
    "# print(content)\n",
    "commands = content.split(\";\")\n",
    "for c in commands:\n",
    "    if not c == \"\":\n",
    "        result = neo4j.run(\"\" + c)"
   ]
  },
  {
   "cell_type": "code",
   "execution_count": 31,
   "id": "813cb055",
   "metadata": {},
   "outputs": [],
   "source": [
    "result = neo4j.run(\"\"\"CALL gds.graph.project(\n",
    "    'graph',                                                                                \n",
    "    ['Patient','Transcript']  \n",
    "    ,\n",
    "    {MEASURED: {orientation: 'REVERSE'}},\n",
    "    {relationshipProperties: ['value']}                           \n",
    ")\n",
    "YIELD graphName, nodeProjection, nodeCount AS nodes, relationshipCount AS rels\n",
    "RETURN graphName, nodeProjection.Patient AS patientProjection, nodes, rels;\"\"\")"
   ]
  },
  {
   "cell_type": "code",
   "execution_count": 32,
   "id": "43b8abaf",
   "metadata": {},
   "outputs": [],
   "source": [
    "result = neo4j.run(\"\"\"CALL gds.nodeSimilarity.write('graph', {\n",
    "    relationshipWeightProperty: 'value',\n",
    "    similarityCutoff: 0.9708,\n",
    "    writeRelationshipType: 'SIMILAR',\n",
    "    writeProperty: 'similarityScore'\n",
    "});\"\"\")"
   ]
  },
  {
   "cell_type": "code",
   "execution_count": 33,
   "id": "2551433a",
   "metadata": {},
   "outputs": [],
   "source": [
    "result = neo4j.run(\"\"\"CALL gds.graph.project(\n",
    "    'graph2',                                                                                \n",
    "    ['Patient']  \n",
    "    ,\n",
    "    {SIMILAR: {orientation: 'UNDIRECTED'}},\n",
    "    {relationshipProperties: ['similarityScore']}                         \n",
    ");\"\"\")"
   ]
  },
  {
   "cell_type": "code",
   "execution_count": 34,
   "id": "0d5abcc4",
   "metadata": {},
   "outputs": [],
   "source": [
    "result = neo4j.run(\"\"\"CALL gds.fastRP.write('graph2',{\n",
    "    relationshipTypes:['SIMILAR'],\n",
    "    embeddingDimension: 128,\n",
    "    iterationWeights: [0, 0, 1.0, 1.0],\n",
    "    normalizationStrength:0.05,\n",
    "    writeProperty: 'fastRP__Embed'\n",
    "});\"\"\")"
   ]
  },
  {
   "cell_type": "code",
   "execution_count": 35,
   "id": "42bc0a3d",
   "metadata": {},
   "outputs": [],
   "source": [
    "result = neo4j.run(\"\"\"CALL gds.graph.project(\n",
    "    'graph3',   {                                                                               \n",
    "    Patient: {properties: {\n",
    "        targetProperty:{property:'targetProperty',defaultValue:0},\n",
    "        isTrain:{property:'isTrain',defaultValue:0},\n",
    "        fastRP__Embed:{property:'fastRP__Embed'}\n",
    "        }\n",
    "      }  \n",
    "}\n",
    "    ,\n",
    "    {SIMILAR: {orientation: 'UNDIRECTED'}},\n",
    "    {relationshipProperties: ['similarityScore']}                         \n",
    ");\"\"\")"
   ]
  },
  {
   "cell_type": "code",
   "execution_count": 40,
   "id": "09b3b2c0",
   "metadata": {},
   "outputs": [],
   "source": [
    "result = neo4j.run(\"\"\"CALL gds.beta.pipeline.nodeClassification.create('pipe')\n",
    "\"\"\")"
   ]
  },
  {
   "cell_type": "code",
   "execution_count": 45,
   "id": "1f929f0c",
   "metadata": {},
   "outputs": [],
   "source": [
    "result = neo4j.run(\"\"\"CALL gds.beta.pipeline.nodeClassification.selectFeatures('pipe', ['fastRP__Embed'])\n",
    "YIELD name, featureProperties;\"\"\")"
   ]
  },
  {
   "cell_type": "code",
   "execution_count": 46,
   "id": "affd744f",
   "metadata": {},
   "outputs": [],
   "source": [
    "result = neo4j.run(\"\"\"CALL gds.beta.pipeline.nodeClassification.configureSplit('pipe', {\n",
    "  testFraction: 0.2,\n",
    "   validationFolds: 5\n",
    " })\n",
    " YIELD splitConfig;\"\"\")"
   ]
  },
  {
   "cell_type": "code",
   "execution_count": 47,
   "id": "56f4d861",
   "metadata": {},
   "outputs": [],
   "source": [
    "result = neo4j.run(\"\"\"CALL gds.beta.pipeline.nodeClassification.addLogisticRegression('pipe', {penalty: 0.0625}) YIELD parameterSpace;\"\"\")"
   ]
  },
  {
   "cell_type": "code",
   "execution_count": 48,
   "id": "6293d8bc",
   "metadata": {},
   "outputs": [],
   "source": [
    "result = neo4j.run(\"\"\"CALL gds.beta.pipeline.nodeClassification.addLogisticRegression('pipe', {penalty: 0.0625}) YIELD parameterSpace;\"\"\")"
   ]
  },
  {
   "cell_type": "code",
   "execution_count": 49,
   "id": "ef44125c",
   "metadata": {},
   "outputs": [],
   "source": [
    "result = neo4j.run(\"\"\"CALL gds.beta.graph.project.subgraph('graph-train', 'graph3', 'n:Patient AND n.isTrain = 1', '*')\n",
    "    YIELD graphName, fromGraphName, nodeCount, relationshipCount;\"\"\")"
   ]
  },
  {
   "cell_type": "code",
   "execution_count": 50,
   "id": "edac0fe3",
   "metadata": {},
   "outputs": [
    {
     "ename": "ClientError",
     "evalue": "{code: Neo.ClientError.Procedure.ProcedureCallFailed} {message: Failed to invoke procedure `gds.beta.graph.project.subgraph`: Caused by: java.lang.IllegalArgumentException: A graph with name 'graph-train' already exists.}",
     "output_type": "error",
     "traceback": [
      "\u001b[0;31m---------------------------------------------------------------------------\u001b[0m",
      "\u001b[0;31mClientError\u001b[0m                               Traceback (most recent call last)",
      "Cell \u001b[0;32mIn[50], line 1\u001b[0m\n\u001b[0;32m----> 1\u001b[0m result \u001b[38;5;241m=\u001b[39m \u001b[43mneo4j\u001b[49m\u001b[38;5;241;43m.\u001b[39;49m\u001b[43mrun\u001b[49m\u001b[43m(\u001b[49m\u001b[38;5;124;43m\"\"\"\u001b[39;49m\u001b[38;5;124;43mCALL gds.beta.graph.project.subgraph(\u001b[39;49m\u001b[38;5;124;43m'\u001b[39;49m\u001b[38;5;124;43mgraph-test\u001b[39;49m\u001b[38;5;124;43m'\u001b[39;49m\u001b[38;5;124;43m, \u001b[39;49m\u001b[38;5;124;43m'\u001b[39;49m\u001b[38;5;124;43mgraph3\u001b[39;49m\u001b[38;5;124;43m'\u001b[39;49m\u001b[38;5;124;43m, \u001b[39;49m\u001b[38;5;124;43m'\u001b[39;49m\u001b[38;5;124;43mn:Patient AND n.isTrain = 0\u001b[39;49m\u001b[38;5;124;43m'\u001b[39;49m\u001b[38;5;124;43m, \u001b[39;49m\u001b[38;5;124;43m'\u001b[39;49m\u001b[38;5;124;43m*\u001b[39;49m\u001b[38;5;124;43m'\u001b[39;49m\u001b[38;5;124;43m)\u001b[39;49m\n\u001b[1;32m      2\u001b[0m \u001b[38;5;124;43m    YIELD graphName, fromGraphName, nodeCount, relationshipCount;\u001b[39;49m\u001b[38;5;124;43m\"\"\"\u001b[39;49m\u001b[43m)\u001b[49m\n",
      "File \u001b[0;32m/opt/homebrew/lib/python3.10/site-packages/neo4j/work/simple.py:201\u001b[0m, in \u001b[0;36mSession.run\u001b[0;34m(self, query, parameters, **kwparameters)\u001b[0m\n\u001b[1;32m    198\u001b[0m     \u001b[38;5;28;01mraise\u001b[39;00m ClientError(\u001b[38;5;124m\"\u001b[39m\u001b[38;5;124mExplicit Transaction must be handled explicitly\u001b[39m\u001b[38;5;124m\"\u001b[39m)\n\u001b[1;32m    200\u001b[0m \u001b[38;5;28;01mif\u001b[39;00m \u001b[38;5;28mself\u001b[39m\u001b[38;5;241m.\u001b[39m_autoResult:\n\u001b[0;32m--> 201\u001b[0m     \u001b[38;5;28;43mself\u001b[39;49m\u001b[38;5;241;43m.\u001b[39;49m\u001b[43m_autoResult\u001b[49m\u001b[38;5;241;43m.\u001b[39;49m\u001b[43m_buffer_all\u001b[49m\u001b[43m(\u001b[49m\u001b[43m)\u001b[49m  \u001b[38;5;66;03m# This will buffer upp all records for the previous auto-transaction\u001b[39;00m\n\u001b[1;32m    203\u001b[0m \u001b[38;5;28;01mif\u001b[39;00m \u001b[38;5;129;01mnot\u001b[39;00m \u001b[38;5;28mself\u001b[39m\u001b[38;5;241m.\u001b[39m_connection:\n\u001b[1;32m    204\u001b[0m     \u001b[38;5;28mself\u001b[39m\u001b[38;5;241m.\u001b[39m_connect(\u001b[38;5;28mself\u001b[39m\u001b[38;5;241m.\u001b[39m_config\u001b[38;5;241m.\u001b[39mdefault_access_mode)\n",
      "File \u001b[0;32m/opt/homebrew/lib/python3.10/site-packages/neo4j/work/result.py:228\u001b[0m, in \u001b[0;36mResult._buffer_all\u001b[0;34m(self)\u001b[0m\n\u001b[1;32m    224\u001b[0m \u001b[38;5;28;01mdef\u001b[39;00m \u001b[38;5;21m_buffer_all\u001b[39m(\u001b[38;5;28mself\u001b[39m):\n\u001b[1;32m    225\u001b[0m     \u001b[38;5;124;03m\"\"\"Sets the Result object in an detached state by fetching all records\u001b[39;00m\n\u001b[1;32m    226\u001b[0m \u001b[38;5;124;03m    from the connection to the buffer.\u001b[39;00m\n\u001b[1;32m    227\u001b[0m \u001b[38;5;124;03m    \"\"\"\u001b[39;00m\n\u001b[0;32m--> 228\u001b[0m     \u001b[38;5;28;43mself\u001b[39;49m\u001b[38;5;241;43m.\u001b[39;49m\u001b[43m_buffer\u001b[49m\u001b[43m(\u001b[49m\u001b[43m)\u001b[49m\n",
      "File \u001b[0;32m/opt/homebrew/lib/python3.10/site-packages/neo4j/work/result.py:214\u001b[0m, in \u001b[0;36mResult._buffer\u001b[0;34m(self, n)\u001b[0m\n\u001b[1;32m    206\u001b[0m \u001b[38;5;124;03m\"\"\"Try to fill `self_record_buffer` with n records.\u001b[39;00m\n\u001b[1;32m    207\u001b[0m \n\u001b[1;32m    208\u001b[0m \u001b[38;5;124;03mMight end up with more records in the buffer if the fetch size makes it\u001b[39;00m\n\u001b[0;32m   (...)\u001b[0m\n\u001b[1;32m    211\u001b[0m \u001b[38;5;124;03mrecords available.\u001b[39;00m\n\u001b[1;32m    212\u001b[0m \u001b[38;5;124;03m\"\"\"\u001b[39;00m\n\u001b[1;32m    213\u001b[0m record_buffer \u001b[38;5;241m=\u001b[39m deque()\n\u001b[0;32m--> 214\u001b[0m \u001b[38;5;28;01mfor\u001b[39;00m record \u001b[38;5;129;01min\u001b[39;00m \u001b[38;5;28mself\u001b[39m:\n\u001b[1;32m    215\u001b[0m     record_buffer\u001b[38;5;241m.\u001b[39mappend(record)\n\u001b[1;32m    216\u001b[0m     \u001b[38;5;28;01mif\u001b[39;00m n \u001b[38;5;129;01mis\u001b[39;00m \u001b[38;5;129;01mnot\u001b[39;00m \u001b[38;5;28;01mNone\u001b[39;00m \u001b[38;5;129;01mand\u001b[39;00m \u001b[38;5;28mlen\u001b[39m(record_buffer) \u001b[38;5;241m>\u001b[39m\u001b[38;5;241m=\u001b[39m n:\n",
      "File \u001b[0;32m/opt/homebrew/lib/python3.10/site-packages/neo4j/work/result.py:187\u001b[0m, in \u001b[0;36mResult.__iter__\u001b[0;34m(self)\u001b[0m\n\u001b[1;32m    185\u001b[0m     \u001b[38;5;28;01myield\u001b[39;00m \u001b[38;5;28mself\u001b[39m\u001b[38;5;241m.\u001b[39m_record_buffer\u001b[38;5;241m.\u001b[39mpopleft()\n\u001b[1;32m    186\u001b[0m \u001b[38;5;28;01melif\u001b[39;00m \u001b[38;5;28mself\u001b[39m\u001b[38;5;241m.\u001b[39m_streaming:\n\u001b[0;32m--> 187\u001b[0m     \u001b[38;5;28;43mself\u001b[39;49m\u001b[38;5;241;43m.\u001b[39;49m\u001b[43m_connection\u001b[49m\u001b[38;5;241;43m.\u001b[39;49m\u001b[43mfetch_message\u001b[49m\u001b[43m(\u001b[49m\u001b[43m)\u001b[49m\n\u001b[1;32m    188\u001b[0m \u001b[38;5;28;01melif\u001b[39;00m \u001b[38;5;28mself\u001b[39m\u001b[38;5;241m.\u001b[39m_discarding:\n\u001b[1;32m    189\u001b[0m     \u001b[38;5;28mself\u001b[39m\u001b[38;5;241m.\u001b[39m_discard()\n",
      "File \u001b[0;32m/opt/homebrew/lib/python3.10/site-packages/neo4j/io/_common.py:170\u001b[0m, in \u001b[0;36mConnectionErrorHandler.__getattr__.<locals>.outer.<locals>.inner\u001b[0;34m(*args, **kwargs)\u001b[0m\n\u001b[1;32m    168\u001b[0m \u001b[38;5;28;01mdef\u001b[39;00m \u001b[38;5;21minner\u001b[39m(\u001b[38;5;241m*\u001b[39margs, \u001b[38;5;241m*\u001b[39m\u001b[38;5;241m*\u001b[39mkwargs):\n\u001b[1;32m    169\u001b[0m     \u001b[38;5;28;01mtry\u001b[39;00m:\n\u001b[0;32m--> 170\u001b[0m         \u001b[43mfunc\u001b[49m\u001b[43m(\u001b[49m\u001b[38;5;241;43m*\u001b[39;49m\u001b[43margs\u001b[49m\u001b[43m,\u001b[49m\u001b[43m \u001b[49m\u001b[38;5;241;43m*\u001b[39;49m\u001b[38;5;241;43m*\u001b[39;49m\u001b[43mkwargs\u001b[49m\u001b[43m)\u001b[49m\n\u001b[1;32m    171\u001b[0m     \u001b[38;5;28;01mexcept\u001b[39;00m (Neo4jError, ServiceUnavailable, SessionExpired) \u001b[38;5;28;01mas\u001b[39;00m exc:\n\u001b[1;32m    172\u001b[0m         \u001b[38;5;28mself\u001b[39m\u001b[38;5;241m.\u001b[39m__on_error(exc)\n",
      "File \u001b[0;32m/opt/homebrew/lib/python3.10/site-packages/neo4j/io/_bolt4.py:309\u001b[0m, in \u001b[0;36mBolt4x0.fetch_message\u001b[0;34m(self)\u001b[0m\n\u001b[1;32m    307\u001b[0m \u001b[38;5;28mself\u001b[39m\u001b[38;5;241m.\u001b[39m_server_state_manager\u001b[38;5;241m.\u001b[39mstate \u001b[38;5;241m=\u001b[39m ServerStates\u001b[38;5;241m.\u001b[39mFAILED\n\u001b[1;32m    308\u001b[0m \u001b[38;5;28;01mtry\u001b[39;00m:\n\u001b[0;32m--> 309\u001b[0m     \u001b[43mresponse\u001b[49m\u001b[38;5;241;43m.\u001b[39;49m\u001b[43mon_failure\u001b[49m\u001b[43m(\u001b[49m\u001b[43msummary_metadata\u001b[49m\u001b[43m \u001b[49m\u001b[38;5;129;43;01mor\u001b[39;49;00m\u001b[43m \u001b[49m\u001b[43m{\u001b[49m\u001b[43m}\u001b[49m\u001b[43m)\u001b[49m\n\u001b[1;32m    310\u001b[0m \u001b[38;5;28;01mexcept\u001b[39;00m (ServiceUnavailable, DatabaseUnavailable):\n\u001b[1;32m    311\u001b[0m     \u001b[38;5;28;01mif\u001b[39;00m \u001b[38;5;28mself\u001b[39m\u001b[38;5;241m.\u001b[39mpool:\n",
      "File \u001b[0;32m/opt/homebrew/lib/python3.10/site-packages/neo4j/io/_common.py:228\u001b[0m, in \u001b[0;36mResponse.on_failure\u001b[0;34m(self, metadata)\u001b[0m\n\u001b[1;32m    226\u001b[0m \u001b[38;5;28;01mif\u001b[39;00m callable(handler):\n\u001b[1;32m    227\u001b[0m     handler()\n\u001b[0;32m--> 228\u001b[0m \u001b[38;5;28;01mraise\u001b[39;00m Neo4jError\u001b[38;5;241m.\u001b[39mhydrate(\u001b[38;5;241m*\u001b[39m\u001b[38;5;241m*\u001b[39mmetadata)\n",
      "\u001b[0;31mClientError\u001b[0m: {code: Neo.ClientError.Procedure.ProcedureCallFailed} {message: Failed to invoke procedure `gds.beta.graph.project.subgraph`: Caused by: java.lang.IllegalArgumentException: A graph with name 'graph-train' already exists.}"
     ]
    }
   ],
   "source": [
    "result = neo4j.run(\"\"\"CALL gds.beta.graph.project.subgraph('graph-test', 'graph3', 'n:Patient AND n.isTrain = 0', '*')\n",
    "    YIELD graphName, fromGraphName, nodeCount, relationshipCount;\"\"\")"
   ]
  },
  {
   "cell_type": "code",
   "execution_count": 51,
   "id": "b0b59a12",
   "metadata": {},
   "outputs": [],
   "source": [
    "result = neo4j.run(\"\"\"CALL gds.beta.pipeline.nodeClassification.train('graph-train', {\n",
    "  pipeline: 'pipe',\n",
    "  targetNodeLabels: ['Patient'],\n",
    "  modelName: 't2d_FRP',\n",
    "  targetProperty: 'targetProperty',\n",
    "  randomSeed: 42,\n",
    "  metrics: ['F1_WEIGHTED','ACCURACY']\n",
    "});\"\"\")"
   ]
  },
  {
   "cell_type": "code",
   "execution_count": 52,
   "id": "687a200c",
   "metadata": {},
   "outputs": [],
   "source": [
    "result = neo4j.run(\"\"\"CALL gds.beta.pipeline.nodeClassification.predict.mutate('graph-test', {\n",
    "      targetNodeLabels: ['Patient'],\n",
    "      modelName: 't2d_FRP',\n",
    "      mutateProperty: 'predicted_t2d'\n",
    "});\n",
    "\"\"\")"
   ]
  },
  {
   "cell_type": "code",
   "execution_count": 53,
   "id": "a78de727",
   "metadata": {},
   "outputs": [],
   "source": [
    "result = neo4j.run(\"\"\"CALL gds.graph.writeNodeProperties(\n",
    "      'graph-test',\n",
    "      ['predicted_t2d'],\n",
    "      ['Patient']\n",
    ");\"\"\")"
   ]
  },
  {
   "cell_type": "code",
   "execution_count": null,
   "id": "e6cadda7",
   "metadata": {},
   "outputs": [],
   "source": []
  }
 ],
 "metadata": {
  "kernelspec": {
   "display_name": "Python 3 (ipykernel)",
   "language": "python",
   "name": "python3"
  },
  "language_info": {
   "codemirror_mode": {
    "name": "ipython",
    "version": 3
   },
   "file_extension": ".py",
   "mimetype": "text/x-python",
   "name": "python",
   "nbconvert_exporter": "python",
   "pygments_lexer": "ipython3",
   "version": "3.10.7"
  }
 },
 "nbformat": 4,
 "nbformat_minor": 5
}
